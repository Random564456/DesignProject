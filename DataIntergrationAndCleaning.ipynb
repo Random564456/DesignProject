{
 "cells": [
  {
   "cell_type": "markdown",
   "id": "c5f6e3b28114d99",
   "metadata": {},
   "source": [
    "#### Loading in data adding classes and merging"
   ]
  },
  {
   "cell_type": "code",
   "execution_count": 2,
   "id": "initial_id",
   "metadata": {
    "ExecuteTime": {
     "end_time": "2025-05-01T03:46:18.885729Z",
     "start_time": "2025-05-01T03:46:18.793189Z"
    },
    "collapsed": true
   },
   "outputs": [],
   "source": [
    "import pandas as pd\n",
    "\n",
    "good_df = pd.read_csv('./data/good.csv')\n",
    "highBad_df = pd.read_csv('./data/high bad.csv')\n",
    "lowBad_df = pd.read_csv('./data/low bad.csv')\n",
    "\n",
    "# Adding class\n",
    "# 0 = good, 1 = high bad, 2 = low bad\n",
    "good_df[\"batch\"] = 0\n",
    "highBad_df[\"batch\"] = 1\n",
    "lowBad_df[\"batch\"] = 2\n",
    "\n",
    "frames = [good_df, highBad_df, lowBad_df]\n",
    "merged_df = pd.concat(frames)\n",
    "\n",
    "# Changing categorical column to numerical\n",
    "merged_df['Part'] = pd.factorize(merged_df['Part'])[0]\n"
   ]
  },
  {
   "cell_type": "markdown",
   "id": "2b4208578af69eea",
   "metadata": {},
   "source": [
    "#### Cleaning"
   ]
  },
  {
   "cell_type": "markdown",
   "id": "5bb5d7e60060b24c",
   "metadata": {},
   "source": [
    "Checking for duplicates"
   ]
  },
  {
   "cell_type": "code",
   "execution_count": 3,
   "id": "fa4db7f3e766aa92",
   "metadata": {
    "ExecuteTime": {
     "end_time": "2025-05-01T03:48:55.636954Z",
     "start_time": "2025-05-01T03:48:55.578273Z"
    }
   },
   "outputs": [],
   "source": [
    "df = merged_df.copy()\n",
    "\n",
    "df.drop_duplicates(inplace=True)"
   ]
  },
  {
   "cell_type": "markdown",
   "id": "2e7a1693ab7e4d2",
   "metadata": {},
   "source": [
    "Checking for null values"
   ]
  },
  {
   "cell_type": "code",
   "execution_count": 4,
   "id": "c735b789f94d35f2",
   "metadata": {
    "ExecuteTime": {
     "end_time": "2025-05-01T03:50:40.403623Z",
     "start_time": "2025-05-01T03:50:40.396298Z"
    }
   },
   "outputs": [
    {
     "data": {
      "text/plain": [
       "VYP batch                        0\n",
       "Part                             0\n",
       "Set Time                         0\n",
       "FFTE Feed solids SP              0\n",
       "FFTE Production solids SP        0\n",
       "FFTE Steam pressure SP           0\n",
       "TFE Out flow SP                  0\n",
       "TFE Production solids SP         0\n",
       "TFE Vacuum pressure SP           0\n",
       "TFE Steam pressure SP            0\n",
       "Extract tank Level               0\n",
       "FFTE Discharge density           0\n",
       "FFTE Discharge solids            0\n",
       "FFTE Feed flow rate PV           0\n",
       "FFTE Feed solids PV              0\n",
       "FFTE Heat temperature 1          0\n",
       "FFTE Heat temperature 2          0\n",
       "FFTE Heat temperature 3          0\n",
       "FFTE Production solids PV        0\n",
       "FFTE Steam pressure PV           0\n",
       "TFE Input flow PV                0\n",
       "TFE Level                        0\n",
       "TFE Motor current                0\n",
       "TFE Motor speed                  0\n",
       "TFE Out flow PV                  0\n",
       "TFE Product out temperature      0\n",
       "TFE Production solids PV         0\n",
       "TFE Production solids density    0\n",
       "TFE Steam pressure PV            0\n",
       "TFE Steam temperature            0\n",
       "TFE Tank level                   0\n",
       "TFE Temperature                  0\n",
       "TFE Vacuum pressure PV           0\n",
       "batch                            0\n",
       "dtype: int64"
      ]
     },
     "execution_count": 4,
     "metadata": {},
     "output_type": "execute_result"
    }
   ],
   "source": [
    "df.isnull().sum()\n",
    "\n",
    "# No null values in the data"
   ]
  },
  {
   "cell_type": "code",
   "execution_count": 6,
   "id": "88fbfd7b7cae96b1",
   "metadata": {
    "ExecuteTime": {
     "end_time": "2025-05-01T03:52:44.174517Z",
     "start_time": "2025-05-01T03:52:44.171313Z"
    }
   },
   "outputs": [],
   "source": [
    "df.to_csv(\"data/merged.csv\", index=False)"
   ]
  }
 ],
 "metadata": {
  "kernelspec": {
   "display_name": "University",
   "language": "python",
   "name": "python3"
  },
  "language_info": {
   "codemirror_mode": {
    "name": "ipython",
    "version": 3
   },
   "file_extension": ".py",
   "mimetype": "text/x-python",
   "name": "python",
   "nbconvert_exporter": "python",
   "pygments_lexer": "ipython3",
   "version": "3.13.2"
  }
 },
 "nbformat": 4,
 "nbformat_minor": 5
}
